{
 "cells": [
  {
   "cell_type": "code",
   "execution_count": 3,
   "id": "a6d3cccf",
   "metadata": {},
   "outputs": [
    {
     "ename": "SyntaxError",
     "evalue": "invalid syntax (<ipython-input-3-30a26afb7d0d>, line 2)",
     "output_type": "error",
     "traceback": [
      "\u001b[1;36m  File \u001b[1;32m\"<ipython-input-3-30a26afb7d0d>\"\u001b[1;36m, line \u001b[1;32m2\u001b[0m\n\u001b[1;33m    for j in range(2)\u001b[0m\n\u001b[1;37m                     ^\u001b[0m\n\u001b[1;31mSyntaxError\u001b[0m\u001b[1;31m:\u001b[0m invalid syntax\n"
     ]
    }
   ],
   "source": [
    "m={}\n",
    "for j in range(2)\n",
    " k=input()\n",
    " n=input()\n",
    " m[k]=n\n",
    "print(m)"
   ]
  },
  {
   "cell_type": "markdown",
   "id": "434368be",
   "metadata": {},
   "source": [
    "# FUNCTIONS:\n"
   ]
  },
  {
   "cell_type": "code",
   "execution_count": 4,
   "id": "8e5b6008",
   "metadata": {},
   "outputs": [
    {
     "name": "stdout",
     "output_type": "stream",
     "text": [
      "32\n"
     ]
    }
   ],
   "source": [
    "i=32\n",
    "print(i)"
   ]
  },
  {
   "cell_type": "code",
   "execution_count": 10,
   "id": "2cf7bf28",
   "metadata": {},
   "outputs": [
    {
     "name": "stdout",
     "output_type": "stream",
     "text": [
      "10\n",
      "1 ,2 ,3 ,4 ,5 ,6 ,7 ,8 ,9 ,10 ,[1, 2, 3, 4, 5, 6, 7, 8, 9, 10]\n"
     ]
    }
   ],
   "source": [
    "# with return type and with arguments\n",
    "# Reading - main\n",
    "#printing - main\n",
    "#logic -function\n",
    "\n",
    "def printnumber(k):\n",
    "    j=[]\n",
    "    for b in range(1,k+1):\n",
    "        j.append(b)\n",
    "    return(j)\n",
    "\n",
    "\n",
    "n=int(input())\n",
    "for z in range(1,len(printnumber(n))+1):\n",
    "    print(z,end=\" ,\")\n",
    "print(printnumber(n))"
   ]
  },
  {
   "cell_type": "code",
   "execution_count": 18,
   "id": "d007006a",
   "metadata": {},
   "outputs": [
    {
     "name": "stdout",
     "output_type": "stream",
     "text": [
      "20\n",
      "2 4 6 8 10 12 14 16 18 20 "
     ]
    }
   ],
   "source": [
    "def evennumbers():\n",
    "    k,c =int(input()),[]\n",
    "    for b in range(1,k+1):\n",
    "        if (b%2==0):\n",
    "           c.append(b)\n",
    "    return(c)\n",
    "\n",
    "for z in evennumbers():\n",
    "    print(z,end=' ')\n",
    "\n",
    "    "
   ]
  },
  {
   "cell_type": "code",
   "execution_count": 20,
   "id": "efac56f8",
   "metadata": {},
   "outputs": [
    {
     "name": "stdout",
     "output_type": "stream",
     "text": [
      "20\n",
      "1 3 5 7 9 11 13 15 17 19 "
     ]
    },
    {
     "data": {
      "text/plain": [
       "()"
      ]
     },
     "execution_count": 20,
     "metadata": {},
     "output_type": "execute_result"
    }
   ],
   "source": [
    "def oddnumbers(m):\n",
    "    for i in range(1,m+1):\n",
    "        if i%2!=0:\n",
    "            print(i,end=' ')  \n",
    "    return()\n",
    "b = int(input())\n",
    "oddnumbers(b)"
   ]
  },
  {
   "cell_type": "code",
   "execution_count": 24,
   "id": "5aa2bf1f",
   "metadata": {},
   "outputs": [
    {
     "name": "stdout",
     "output_type": "stream",
     "text": [
      "20\n",
      "100\n",
      "15\n",
      "20 35 50 65 80 95 "
     ]
    }
   ],
   "source": [
    "def skippingvalues():\n",
    "    n=int(input())\n",
    "    m=int(input())\n",
    "    s=int(input())\n",
    "    for j in range(n,m,s):\n",
    "        print(j,end=' ')\n",
    "    return\n",
    "\n",
    "skippingvalues()"
   ]
  },
  {
   "cell_type": "code",
   "execution_count": 29,
   "id": "b5e39361",
   "metadata": {},
   "outputs": [
    {
     "name": "stdout",
     "output_type": "stream",
     "text": [
      "2345678921\n",
      "given no is:2345678921\n"
     ]
    },
    {
     "ename": "TypeError",
     "evalue": "'int' object is not iterable",
     "output_type": "error",
     "traceback": [
      "\u001b[1;31m---------------------------------------------------------------------------\u001b[0m",
      "\u001b[1;31mTypeError\u001b[0m                                 Traceback (most recent call last)",
      "\u001b[1;32m<ipython-input-29-30dee4f9516d>\u001b[0m in \u001b[0;36m<module>\u001b[1;34m\u001b[0m\n\u001b[0;32m      8\u001b[0m             \u001b[0mprint\u001b[0m\u001b[1;33m(\u001b[0m\u001b[0mc\u001b[0m\u001b[1;33m,\u001b[0m\u001b[0mend\u001b[0m\u001b[1;33m=\u001b[0m\u001b[1;34m\" \"\u001b[0m\u001b[1;33m)\u001b[0m\u001b[1;33m\u001b[0m\u001b[1;33m\u001b[0m\u001b[0m\n\u001b[0;32m      9\u001b[0m     \u001b[1;32mreturn\u001b[0m\u001b[1;33m\u001b[0m\u001b[1;33m\u001b[0m\u001b[0m\n\u001b[1;32m---> 10\u001b[1;33m \u001b[0mevennumbers\u001b[0m\u001b[1;33m(\u001b[0m\u001b[1;33m)\u001b[0m\u001b[1;33m\u001b[0m\u001b[1;33m\u001b[0m\u001b[0m\n\u001b[0m",
      "\u001b[1;32m<ipython-input-29-30dee4f9516d>\u001b[0m in \u001b[0;36mevennumbers\u001b[1;34m()\u001b[0m\n\u001b[0;32m      3\u001b[0m \u001b[0mprint\u001b[0m\u001b[1;33m(\u001b[0m\u001b[1;34m\"given no is:{}\"\u001b[0m\u001b[1;33m.\u001b[0m\u001b[0mformat\u001b[0m\u001b[1;33m(\u001b[0m\u001b[0ma\u001b[0m\u001b[1;33m)\u001b[0m\u001b[1;33m)\u001b[0m\u001b[1;33m\u001b[0m\u001b[1;33m\u001b[0m\u001b[0m\n\u001b[0;32m      4\u001b[0m \u001b[1;32mdef\u001b[0m \u001b[0mevennumbers\u001b[0m\u001b[1;33m(\u001b[0m\u001b[1;33m)\u001b[0m\u001b[1;33m:\u001b[0m\u001b[1;33m\u001b[0m\u001b[1;33m\u001b[0m\u001b[0m\n\u001b[1;32m----> 5\u001b[1;33m     \u001b[1;32mfor\u001b[0m \u001b[0mi\u001b[0m \u001b[1;32min\u001b[0m \u001b[0ma\u001b[0m\u001b[1;33m:\u001b[0m\u001b[1;33m\u001b[0m\u001b[1;33m\u001b[0m\u001b[0m\n\u001b[0m\u001b[0;32m      6\u001b[0m         \u001b[1;32mif\u001b[0m \u001b[0mi\u001b[0m\u001b[1;33m%\u001b[0m\u001b[1;36m2\u001b[0m\u001b[1;33m==\u001b[0m\u001b[1;36m0\u001b[0m\u001b[1;33m:\u001b[0m\u001b[1;33m\u001b[0m\u001b[1;33m\u001b[0m\u001b[0m\n\u001b[0;32m      7\u001b[0m             \u001b[0mc\u001b[0m\u001b[1;33m.\u001b[0m\u001b[0mappend\u001b[0m\u001b[1;33m(\u001b[0m\u001b[0mi\u001b[0m\u001b[1;33m)\u001b[0m\u001b[1;33m\u001b[0m\u001b[1;33m\u001b[0m\u001b[0m\n",
      "\u001b[1;31mTypeError\u001b[0m: 'int' object is not iterable"
     ]
    }
   ],
   "source": [
    "a= int(input())\n",
    "c=[]\n",
    "print(\"given no is:{}\".format(a))\n",
    "def evennumbers():\n",
    "    for i in a:\n",
    "        if i%2==0:\n",
    "            c.append(i)\n",
    "            print(c,end=\" \")\n",
    "    return  \n",
    "evennumbers()"
   ]
  },
  {
   "cell_type": "code",
   "execution_count": 30,
   "id": "052712ef",
   "metadata": {},
   "outputs": [
    {
     "name": "stdout",
     "output_type": "stream",
     "text": [
      "23453267865\n",
      "given number:  23453267865\n",
      "even numbers are:  ['3', '5', '3', '7', '5']\n",
      "odd numbers are:  ['2', '4', '2', '6', '8', '6']\n"
     ]
    }
   ],
   "source": [
    "def oe(n):\n",
    "    o=[]\n",
    "    e=[]\n",
    "    for i in n:\n",
    "        if int(i)%2==0:\n",
    "            o.append(i)\n",
    "        else:\n",
    "            e.append(i)\n",
    "    print(\"given number: \",n)\n",
    "    print(\"even numbers are: \",e)\n",
    "    print(\"odd numbers are: \",o)\n",
    "n=input()\n",
    "oe(n)\n"
   ]
  },
  {
   "cell_type": "code",
   "execution_count": null,
   "id": "5b24a2f9",
   "metadata": {},
   "outputs": [],
   "source": [
    "def function(n):\n",
    "    print(\"Given number is: \",n)\n",
    "    ev=\"\"\n",
    "    od=\"\"\n",
    "    while(n>0):\n",
    "        r=n%10\n",
    "        n=n//10\n",
    "        if(r%2==0):\n",
    "            ev+=str(r)+\" \"\n",
    "        else:\n",
    "            od+=str(r)+\" \"\n",
    "    print(\"Even numbers are: \",ev)\n",
    "    print(\"odd numbers are: \",od)\n",
    "    \n",
    "n=int(input())\n",
    "function(n)\n"
   ]
  },
  {
   "cell_type": "code",
   "execution_count": 7,
   "id": "c852faf4",
   "metadata": {},
   "outputs": [
    {
     "name": "stdout",
     "output_type": "stream",
     "text": [
      "234567876\n",
      "[6] [] [6] [7] [6, 8] [7] [6, 8] [7, 7] [6, 8, 6] [7, 7] [6, 8, 6] [7, 7, 5] [6, 8, 6, 4] [7, 7, 5] [6, 8, 6, 4] [7, 7, 5, 3] [6, 8, 6, 4, 2] [7, 7, 5, 3] "
     ]
    }
   ],
   "source": [
    "n=int(input())\n",
    "\n",
    "def even(n):\n",
    "    l1=[]\n",
    "    l2=[]\n",
    "    while n!=0:\n",
    "        rem=n%10\n",
    "        n=n//10\n",
    "        if(rem%2==0):\n",
    "            l1.append(rem)\n",
    "        elif(rem%2!=0):\n",
    "            l2.append(rem)\n",
    "        print(l1,end=\" \")\n",
    "        print(l2,end=\" \")\n",
    "    return\n",
    "even(n)\n",
    "        "
   ]
  },
  {
   "cell_type": "code",
   "execution_count": 3,
   "id": "12059d8e",
   "metadata": {},
   "outputs": [
    {
     "name": "stdout",
     "output_type": "stream",
     "text": [
      "enter a name:aaaaaa\n",
      "enter an age:21\n",
      "your name is:aaaaaa\n",
      "your age is:21\n"
     ]
    }
   ],
   "source": [
    "def student(a,n):\n",
    "    print(\"your name is:{}\\nyour age is:{}\".format(a,n))\n",
    "    return\n",
    "name = input(\"enter a name:\")\n",
    "age = int(input(\"enter an age:\"))\n",
    "student(name,age)"
   ]
  },
  {
   "cell_type": "code",
   "execution_count": 10,
   "id": "cd385031",
   "metadata": {},
   "outputs": [
    {
     "name": "stdout",
     "output_type": "stream",
     "text": [
      "enter name:aaaaa\n",
      "age:23\n",
      "employee name:aaaaa\n",
      "employee age :23\n",
      " sal is:20000\n"
     ]
    }
   ],
   "source": [
    "def employee(n,a,s=20000):\n",
    "    print(\"employee name:{}\\nemployee age :{}\\n sal is:{}\".format(n,a,s))\n",
    "    return\n",
    "n=input(\"enter name:\")\n",
    "a=int(input(\"age:\"))\n",
    "employee(n,a)"
   ]
  },
  {
   "cell_type": "code",
   "execution_count": 11,
   "id": "ddec2577",
   "metadata": {},
   "outputs": [
    {
     "ename": "SyntaxError",
     "evalue": "non-default argument follows default argument (<ipython-input-11-28285dcff381>, line 1)",
     "output_type": "error",
     "traceback": [
      "\u001b[1;36m  File \u001b[1;32m\"<ipython-input-11-28285dcff381>\"\u001b[1;36m, line \u001b[1;32m1\u001b[0m\n\u001b[1;33m    def employee(n='aaaaa',a,s):\u001b[0m\n\u001b[1;37m                ^\u001b[0m\n\u001b[1;31mSyntaxError\u001b[0m\u001b[1;31m:\u001b[0m non-default argument follows default argument\n"
     ]
    }
   ],
   "source": [
    "def employee(n='aaaaa',a,s):\n",
    "    print(\"employee name:{}\\nemployee age :{}\\n sal is:{}\".format(n,a,s))\n",
    "    return\n",
    "n=input(\"enter name:\")\n",
    "a=int(input(\"age\"))\n",
    "s=int(input(\"sal:\"))\n",
    "employee(n,a,s)"
   ]
  },
  {
   "cell_type": "code",
   "execution_count": 13,
   "id": "65f81ac5",
   "metadata": {},
   "outputs": [
    {
     "name": "stdout",
     "output_type": "stream",
     "text": [
      "college name:aaaaa\n",
      "enter your year:1984\n",
      "college name:aaaaa\n",
      "year :1984\n"
     ]
    }
   ],
   "source": [
    "def college(cn,y):\n",
    "    print(\"college name:{}\\nyear :{}\".format(cn,y))\n",
    "    return\n",
    "cn=input(\"college name:\")\n",
    "y=int(input(\"enter your year:\"))\n",
    "college(cn,y)"
   ]
  },
  {
   "cell_type": "code",
   "execution_count": 18,
   "id": "827ac3d5",
   "metadata": {},
   "outputs": [
    {
     "name": "stdout",
     "output_type": "stream",
     "text": [
      "enter your year:1234\n",
      "college name:aaaa\n",
      "place:rrrrr\n",
      "college name:aaaa\n",
      "year :1234\n",
      "place:rrrrr\n"
     ]
    }
   ],
   "source": [
    "def college(cn,y,pl):\n",
    "    print(\"college name:{}\\nyear :{}\\nplace:{}\".format(cn,y,pl))\n",
    "    return\n",
    "\n",
    "college(y=int(input(\"enter your year:\")),cn=input(\"college name:\"),pl=input(\"place:\"))"
   ]
  },
  {
   "cell_type": "code",
   "execution_count": null,
   "id": "02ddf5a5",
   "metadata": {},
   "outputs": [],
   "source": [
    "c={}\n",
    "def contact(name,*t):\n",
    "    return\n",
    "name = input()\n",
    "m=int(input())\n",
    "a=int(input())\n",
    "s=\n",
    "contact(n,m,a,s)\n",
    "print(c)"
   ]
  }
 ],
 "metadata": {
  "kernelspec": {
   "display_name": "Python 3",
   "language": "python",
   "name": "python3"
  },
  "language_info": {
   "codemirror_mode": {
    "name": "ipython",
    "version": 3
   },
   "file_extension": ".py",
   "mimetype": "text/x-python",
   "name": "python",
   "nbconvert_exporter": "python",
   "pygments_lexer": "ipython3",
   "version": "3.7.5"
  }
 },
 "nbformat": 4,
 "nbformat_minor": 5
}
