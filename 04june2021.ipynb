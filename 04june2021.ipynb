{
 "cells": [
  {
   "cell_type": "code",
   "execution_count": 1,
   "id": "f67dcb71",
   "metadata": {},
   "outputs": [
    {
     "name": "stdout",
     "output_type": "stream",
     "text": [
      "20\n",
      "given number:  20\n",
      "even numbers are:  []\n",
      "odd numbers are:  ['2', '0']\n"
     ]
    }
   ],
   "source": [
    "def oe(n):\n",
    "    o=[]\n",
    "    e=[]\n",
    "    for i in n:\n",
    "        if int(i)%2==0:\n",
    "            o.append(i)\n",
    "        else:\n",
    "            e.append(i)\n",
    "    print(\"given number: \",n)\n",
    "    print(\"even numbers are: \",e)\n",
    "    print(\"odd numbers are: \",o)\n",
    "n=input()\n",
    "oe(n)"
   ]
  },
  {
   "cell_type": "code",
   "execution_count": null,
   "id": "c497d2b3",
   "metadata": {},
   "outputs": [],
   "source": []
  }
 ],
 "metadata": {
  "kernelspec": {
   "display_name": "Python 3",
   "language": "python",
   "name": "python3"
  },
  "language_info": {
   "codemirror_mode": {
    "name": "ipython",
    "version": 3
   },
   "file_extension": ".py",
   "mimetype": "text/x-python",
   "name": "python",
   "nbconvert_exporter": "python",
   "pygments_lexer": "ipython3",
   "version": "3.7.5"
  }
 },
 "nbformat": 4,
 "nbformat_minor": 5
}
