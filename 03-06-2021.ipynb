{
 "cells": [
  {
   "cell_type": "code",
   "execution_count": 1,
   "id": "a61912c2",
   "metadata": {},
   "outputs": [
    {
     "name": "stdout",
     "output_type": "stream",
     "text": [
      "{'ramu', 34, 450, 'a', 943, 54, 23}\n"
     ]
    }
   ],
   "source": [
    "g={23,34,54,943,'a',450,'ramu'}\n",
    "print (g)"
   ]
  },
  {
   "cell_type": "code",
   "execution_count": 3,
   "id": "755da050",
   "metadata": {},
   "outputs": [
    {
     "data": {
      "text/plain": [
       "{23, 34, 450, 54, 943, 'a', 'ramu'}"
      ]
     },
     "execution_count": 3,
     "metadata": {},
     "output_type": "execute_result"
    }
   ],
   "source": [
    "g"
   ]
  },
  {
   "cell_type": "code",
   "execution_count": 4,
   "id": "4c196410",
   "metadata": {},
   "outputs": [
    {
     "name": "stdout",
     "output_type": "stream",
     "text": [
      "['__and__', '__class__', '__contains__', '__delattr__', '__dir__', '__doc__', '__eq__', '__format__', '__ge__', '__getattribute__', '__gt__', '__hash__', '__iand__', '__init__', '__init_subclass__', '__ior__', '__isub__', '__iter__', '__ixor__', '__le__', '__len__', '__lt__', '__ne__', '__new__', '__or__', '__rand__', '__reduce__', '__reduce_ex__', '__repr__', '__ror__', '__rsub__', '__rxor__', '__setattr__', '__sizeof__', '__str__', '__sub__', '__subclasshook__', '__xor__', 'add', 'clear', 'copy', 'difference', 'difference_update', 'discard', 'intersection', 'intersection_update', 'isdisjoint', 'issubset', 'issuperset', 'pop', 'remove', 'symmetric_difference', 'symmetric_difference_update', 'union', 'update']\n"
     ]
    }
   ],
   "source": [
    "print(dir(set))"
   ]
  },
  {
   "cell_type": "code",
   "execution_count": 6,
   "id": "1ea83284",
   "metadata": {},
   "outputs": [
    {
     "name": "stdout",
     "output_type": "stream",
     "text": [
      "{'ramu', 67, 43, 12, 'mamatha', 21, 56, 92, 'f'}\n"
     ]
    }
   ],
   "source": [
    "s1={12,21,'f','ramu',43,67,56,92}\n",
    "s1.add(\"mamatha\")\n",
    "print(s1)"
   ]
  },
  {
   "cell_type": "markdown",
   "id": "6f7e4d0e",
   "metadata": {},
   "source": [
    "s1"
   ]
  },
  {
   "cell_type": "code",
   "execution_count": 7,
   "id": "0a90522a",
   "metadata": {},
   "outputs": [
    {
     "data": {
      "text/plain": [
       "{12, 21, 43, 56, 67, 92, 'f', 'mamatha', 'ramu'}"
      ]
     },
     "execution_count": 7,
     "metadata": {},
     "output_type": "execute_result"
    }
   ],
   "source": [
    "s1\n"
   ]
  },
  {
   "cell_type": "code",
   "execution_count": 8,
   "id": "14db9433",
   "metadata": {},
   "outputs": [
    {
     "name": "stdout",
     "output_type": "stream",
     "text": [
      "{'ramu', 67, 43, 12, 'mamatha', 21, 56, 92, 'f'}\n",
      "{67, 43, 12, 'mamatha', 21, 56, 92, 'f'}\n"
     ]
    }
   ],
   "source": [
    "print(s1)\n",
    "s1.pop()\n",
    "print(s1)"
   ]
  },
  {
   "cell_type": "code",
   "execution_count": 13,
   "id": "89ad3f00",
   "metadata": {},
   "outputs": [
    {
     "name": "stdout",
     "output_type": "stream",
     "text": [
      "{67, 43, 12, 21, 56, 92, 'f'}\n",
      "{67, 43, 12, 21, 56, 92}\n"
     ]
    }
   ],
   "source": [
    "print(s1)\n",
    "s1.remove('f')\n",
    "print(s1)"
   ]
  },
  {
   "cell_type": "code",
   "execution_count": 8,
   "id": "3a4c7e39",
   "metadata": {},
   "outputs": [
    {
     "name": "stdout",
     "output_type": "stream",
     "text": [
      "{32, 1, 2, 3, 8, 21, 89}\n",
      "{1, 2, 3, 45, 5678}\n",
      "{32, 1, 2, 3, 8, 45, 5678, 21, 89}\n",
      "{32, 1, 2, 3, 8, 21, 89}\n",
      "{1, 2, 3, 45, 5678}\n"
     ]
    }
   ],
   "source": [
    "s2={1,2,3,89,8,32,21}\n",
    "s3={1,2,3,45,5678}\n",
    "print(s2)\n",
    "print(s3)\n",
    "print(s2.union(s3))\n",
    "print(s2)\n",
    "print(s3)"
   ]
  },
  {
   "cell_type": "code",
   "execution_count": 17,
   "id": "4d9b75dc",
   "metadata": {},
   "outputs": [
    {
     "name": "stdout",
     "output_type": "stream",
     "text": [
      "{8, 32, 21, 45}\n",
      "{1, 2, 3, 45, 5678}\n",
      "{45}\n",
      "{8, 32, 21, 45}\n",
      "{1, 2, 3, 45, 5678}\n"
     ]
    }
   ],
   "source": [
    "print(s2)\n",
    "print(s3)\n",
    "print(s3.intersection(s2))\n",
    "print(s2)\n",
    "print(s3)"
   ]
  },
  {
   "cell_type": "code",
   "execution_count": 9,
   "id": "0f0b75e4",
   "metadata": {},
   "outputs": [
    {
     "name": "stdout",
     "output_type": "stream",
     "text": [
      "{45, 5678}\n"
     ]
    }
   ],
   "source": [
    "print(s3.difference(s2))"
   ]
  },
  {
   "cell_type": "code",
   "execution_count": null,
   "id": "941a12c8",
   "metadata": {},
   "outputs": [],
   "source": [
    "# dictionary\n"
   ]
  },
  {
   "cell_type": "code",
   "execution_count": 22,
   "id": "d37bf59e",
   "metadata": {},
   "outputs": [
    {
     "name": "stdout",
     "output_type": "stream",
     "text": [
      "{'name': ('aaaa', 'sssss', 'dddddd'), 'age': 20, 'sal': [40000, 3000, 32000]} <class 'dict'>\n"
     ]
    }
   ],
   "source": [
    "t={'name': ('aaaa','sssss','dddddd'),'age':20,'sal':[40000,3000,32000]}\n",
    "print(t,type(t))"
   ]
  },
  {
   "cell_type": "code",
   "execution_count": 23,
   "id": "c137d020",
   "metadata": {},
   "outputs": [
    {
     "name": "stdout",
     "output_type": "stream",
     "text": [
      "3000\n"
     ]
    }
   ],
   "source": [
    "print(t['sal'][1])"
   ]
  },
  {
   "cell_type": "code",
   "execution_count": 24,
   "id": "93e1cbc0",
   "metadata": {},
   "outputs": [
    {
     "name": "stdout",
     "output_type": "stream",
     "text": [
      "['__class__', '__contains__', '__delattr__', '__delitem__', '__dir__', '__doc__', '__eq__', '__format__', '__ge__', '__getattribute__', '__getitem__', '__gt__', '__hash__', '__init__', '__init_subclass__', '__iter__', '__le__', '__len__', '__lt__', '__ne__', '__new__', '__reduce__', '__reduce_ex__', '__repr__', '__setattr__', '__setitem__', '__sizeof__', '__str__', '__subclasshook__', 'clear', 'copy', 'fromkeys', 'get', 'items', 'keys', 'pop', 'popitem', 'setdefault', 'update', 'values']\n"
     ]
    }
   ],
   "source": [
    "print(dir(dict))"
   ]
  },
  {
   "cell_type": "code",
   "execution_count": 25,
   "id": "9a8a4dab",
   "metadata": {},
   "outputs": [
    {
     "name": "stdout",
     "output_type": "stream",
     "text": [
      "dict_keys(['name', 'age', 'sal'])\n"
     ]
    }
   ],
   "source": [
    "print(t.keys())"
   ]
  },
  {
   "cell_type": "code",
   "execution_count": 26,
   "id": "1f0aefd0",
   "metadata": {},
   "outputs": [
    {
     "name": "stdout",
     "output_type": "stream",
     "text": [
      "dict_values([('aaaa', 'sssss', 'dddddd'), 20, [40000, 3000, 32000]])\n"
     ]
    }
   ],
   "source": [
    "print(t.values())"
   ]
  },
  {
   "cell_type": "code",
   "execution_count": 28,
   "id": "19035a58",
   "metadata": {},
   "outputs": [
    {
     "name": "stdout",
     "output_type": "stream",
     "text": [
      "{'name': 'qqqqq', 'age': [32], 'sal': [3400, 46000]} <class 'dict'>\n"
     ]
    }
   ],
   "source": [
    "y={'name':\"qqqqq\",\"age\":[32],\"sal\":[3400,46000]}\n",
    "print(y,type(y))"
   ]
  },
  {
   "cell_type": "code",
   "execution_count": 29,
   "id": "8a163e50",
   "metadata": {},
   "outputs": [
    {
     "name": "stdout",
     "output_type": "stream",
     "text": [
      "dict_items([('name', ('aaaa', 'sssss', 'dddddd')), ('age', 20), ('sal', [40000, 3000, 32000])])\n"
     ]
    }
   ],
   "source": [
    "print(t.items())"
   ]
  },
  {
   "cell_type": "code",
   "execution_count": 32,
   "id": "0ca3679e",
   "metadata": {},
   "outputs": [
    {
     "name": "stdout",
     "output_type": "stream",
     "text": [
      "('aaaa', 'sssss', 'dddddd')\n",
      "20\n",
      "[40000, 3000, 32000]\n"
     ]
    }
   ],
   "source": [
    "print(t.get('name'))\n",
    "print(t.get('age'))\n",
    "print(t.get('sal'))"
   ]
  },
  {
   "cell_type": "code",
   "execution_count": 34,
   "id": "8c6be0cd",
   "metadata": {},
   "outputs": [
    {
     "name": "stdout",
     "output_type": "stream",
     "text": [
      "{'name': ('aaaa', 'sssss', 'dddddd'), 'age': 20, 'sal': [40000, 3000, 32000]}\n",
      "{'name': ('aaaa', 'sssss', 'dddddd'), 'age': 20, 'sal': [40000, 3000, 32000], 'no': [12, 34, 43, 66]}\n"
     ]
    }
   ],
   "source": [
    "print(t)\n",
    "t['no']=[12,34,43,66]\n",
    "print(t)"
   ]
  },
  {
   "cell_type": "code",
   "execution_count": 36,
   "id": "77d2152a",
   "metadata": {},
   "outputs": [
    {
     "name": "stdout",
     "output_type": "stream",
     "text": [
      "{'name': ('aaaa', 'sssss', 'dddddd'), 'age': 20, 'sal': [40000, 3000, 32000], 'no': [12, 34, 43, 66]}\n",
      "{'name': ('aaaa', 'sssss', 'dddddd'), 'age': 20, 'sal': [40000, 3000, 32000], 'no': ['jasmine']}\n"
     ]
    }
   ],
   "source": [
    "print(t)\n",
    "t['no']=['jasmine']\n",
    "print(t)"
   ]
  },
  {
   "cell_type": "code",
   "execution_count": 38,
   "id": "023e5f8e",
   "metadata": {},
   "outputs": [
    {
     "name": "stdout",
     "output_type": "stream",
     "text": [
      "{'name': ('aaaa', 'sssss', 'dddddd'), 'age': 20, 'sal': [40000, 3000, 32000], 'no': ['jasmine']}\n",
      "{'name': ('aaaa', 'sssss', 'dddddd'), 'age': 20, 'sal': [40000, 3000, 32000], 'no': ['jasmine'], 'tr': None}\n"
     ]
    }
   ],
   "source": [
    "print(t)\n",
    "t.setdefault('tr')\n",
    "print(t)\n"
   ]
  },
  {
   "cell_type": "code",
   "execution_count": 40,
   "id": "53ea2739",
   "metadata": {},
   "outputs": [
    {
     "name": "stdout",
     "output_type": "stream",
     "text": [
      "{'name': ('aaaa', 'sssss', 'dddddd'), 'age': 20, 'sal': [40000, 3000, 32000], 'no': ['jasmine'], 'tr': None}\n",
      "{'name': ('aaaa', 'sssss', 'dddddd'), 'age': 20, 'sal': [40000, 3000, 32000], 'no': ['jasmine'], 'tr': 45}\n"
     ]
    }
   ],
   "source": [
    "print(t)\n",
    "t.update({'tr':45})\n",
    "print(t)"
   ]
  },
  {
   "cell_type": "code",
   "execution_count": 41,
   "id": "5e453908",
   "metadata": {},
   "outputs": [
    {
     "name": "stdout",
     "output_type": "stream",
     "text": [
      "{'name': ('aaaa', 'sssss', 'dddddd'), 'age': 20, 'sal': [40000, 3000, 32000], 'no': ['jasmine'], 'tr': 45}\n",
      "('tr', 45)\n",
      "{'name': ('aaaa', 'sssss', 'dddddd'), 'age': 20, 'sal': [40000, 3000, 32000], 'no': ['jasmine']}\n"
     ]
    }
   ],
   "source": [
    "print(t)\n",
    "print(t.popitem())\n",
    "print(t)"
   ]
  },
  {
   "cell_type": "code",
   "execution_count": 46,
   "id": "98b1220c",
   "metadata": {},
   "outputs": [
    {
     "name": "stdout",
     "output_type": "stream",
     "text": [
      "['name', 'age', 'sal']\n",
      "[12, 23, 34, 45, 65, 78]\n",
      "{'name': 'ssss', 'donar': 23}\n",
      "['name', 'age', 'sal']\n",
      "[12, 23, 34, 45, 65, 78]\n"
     ]
    }
   ],
   "source": [
    "q=['name','age','sal']\n",
    "w=[12,23,34,45,65,78]\n",
    "print(q)\n",
    "print(w)\n",
    "f={'name':'ssss','donar':23}\n",
    "f.fromkeys(q)\n",
    "f.fromkeys(w)\n",
    "print(f)\n",
    "print(q)\n",
    "print(w)"
   ]
  },
  {
   "cell_type": "code",
   "execution_count": 47,
   "id": "77521cae",
   "metadata": {},
   "outputs": [
    {
     "name": "stdout",
     "output_type": "stream",
     "text": [
      "{'key1': None, 'key2': None, 'key3': None}\n"
     ]
    }
   ],
   "source": [
    "x = ('key1', 'key2', 'key3')\n",
    "\n",
    "thisdict = dict.fromkeys(x)\n",
    "\n",
    "print(thisdict)"
   ]
  },
  {
   "cell_type": "code",
   "execution_count": 3,
   "id": "0b6e5a6b",
   "metadata": {},
   "outputs": [
    {
     "name": "stdout",
     "output_type": "stream",
     "text": [
      "['name', 'age', 'sal']\n",
      "[12, 23, 34, 45, 65, 78]\n",
      "{'name': 9, 'age': 9, 'sal': 9}\n",
      "['name', 'age', 'sal']\n",
      "[12, 23, 34, 45, 65, 78]\n"
     ]
    }
   ],
   "source": [
    "q=['name','age','sal']\n",
    "w=[12,23,34,45,65,78]\n",
    "print(q)\n",
    "print(w)\n",
    "f={}\n",
    "f={}.fromkeys(q,9)\n",
    " \n",
    "print(f)\n",
    "\n",
    "print(q)\n",
    "print(w)"
   ]
  },
  {
   "cell_type": "code",
   "execution_count": null,
   "id": "e98448ee",
   "metadata": {},
   "outputs": [],
   "source": [
    "contact application:\n",
    "    1.enter new record\n",
    "    2.display all records\n",
    "    3.update record\n",
    "    4.delete rcord\n",
    "    5. exit\n",
    "    \n",
    "    ramu---- not exist\n",
    "    mobile no ------xxxxxxxx\n",
    "    already exists\n",
    "    \n",
    "    name      mobile no\n",
    "    ramu      xxxxxxxxxx\n",
    "    rajesh    xxxxxxxxxx\n",
    "    \n",
    "    \n",
    "    ramu-------exist\n",
    "    mobile no   xxxxxxxx\n",
    "    user doesnt exist\n",
    "    \n",
    "    ramu ------exist\n",
    "    user deletd succesfull\n",
    "    user doesnt exist\n",
    "    \n",
    "   \n",
    "\n",
    "1\n",
    "2\n",
    "3\n",
    "4\n",
    "5\n",
    "\n",
    "    1 enter your name :rajesh\n",
    "        rajesh already exist\n",
    "        enter  mobile no:xxxxxxx\n",
    "      \n",
    "    2   name       mobile no\n",
    "        rajesh     xxxxxxxxxxxx\n",
    "        \n",
    "        \n",
    "    3   enter your name:rajesh\n",
    "        enter uuodted mobile no:xxxxxxxx\n",
    "          \n",
    "        rajesh1\n",
    "        rajeh1 doesnt exist\n",
    "        \n",
    "     4\n",
    "         enter your name:rajesh\n",
    "         rajesh record delelted succesfull\n",
    "        ralesh doesnt exist in your contact\n",
    "        \n",
    "        \n",
    "    5  exit  "
   ]
  }
 ],
 "metadata": {
  "kernelspec": {
   "display_name": "Python 3",
   "language": "python",
   "name": "python3"
  },
  "language_info": {
   "codemirror_mode": {
    "name": "ipython",
    "version": 3
   },
   "file_extension": ".py",
   "mimetype": "text/x-python",
   "name": "python",
   "nbconvert_exporter": "python",
   "pygments_lexer": "ipython3",
   "version": "3.7.5"
  }
 },
 "nbformat": 4,
 "nbformat_minor": 5
}
